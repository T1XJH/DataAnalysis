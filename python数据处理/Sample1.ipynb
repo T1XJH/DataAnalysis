{
 "cells": [
  {
   "cell_type": "code",
   "execution_count": 4,
   "metadata": {},
   "outputs": [
    {
     "name": "stderr",
     "output_type": "stream",
     "text": [
      "c:\\users\\administrator\\appdata\\local\\programs\\python\\python36-32\\lib\\site-packages\\ipykernel_launcher.py:10: DeprecationWarning: object of type <class 'numpy.float64'> cannot be safely interpreted as an integer.\n",
      "  # Remove the CWD from sys.path while we load stuff.\n"
     ]
    },
    {
     "data": {
      "image/png": "[encoded data removed]",
      "text/plain": [
       "<Figure size 432x288 with 1 Axes>"
      ]
     },
     "metadata": {},
     "output_type": "display_data"
    }
   ],
   "source": [
    "import scipy.io.wavfile\n",
    "import numpy as np\n",
    "import matplotlib.pyplot as plt\n",
    "\n",
    "RATE = 44100\n",
    "DTYPE = np.int16\n",
    "\n",
    "#生成正弦波\n",
    "def generate(freq, amp, duration, phi):\n",
    "    t = np.linspace(0, duration, duration * RATE)\n",
    "    data = np.sin(2 * np.pi * freq * t + phi) * amp\n",
    "    \n",
    "    return data.astype(DTYPE)\n",
    "\n",
    "# 初始化\n",
    "# 弹奏89个音符\n",
    "NTONES = 89\n",
    "# 振幅是 200 - 2000\n",
    "amps = 2000. * np.random.random((NTONES,)) + 200.\n",
    "# 时长是 0.01 - 0.2\n",
    "durations = 0.19 * np.random.random((NTONES,)) + 0.01\n",
    "# 键从88个中任取\n",
    "keys = np.random.randint(1, 88, NTONES)\n",
    "# 频率使用上面的公式生成\n",
    "freqs = 440.0 * 2 ** ((keys - 49.)/12.)\n",
    "# 初相是0 - 2 * pi\n",
    "phi = 2 * np.pi * np.random.random((NTONES,))\n",
    "\n",
    "tone = np.array([], dtype = DTYPE)\n",
    "\n",
    "for i in range(NTONES):\n",
    "    # 对于每个音符生成正弦波\n",
    "    newtone = generate(freqs[i], amp = amps[i], duration = durations[i], phi = phi[i])\n",
    "    # 附加到音频后面\n",
    "    tone = np.concatenate((tone, newtone))\n",
    "    \n",
    "# 保存文件\n",
    "scipy.io.wavfile.write('generated_tone.wav', RATE, tone)\n",
    "\n",
    "# 绘制音频数据\n",
    "plt.plot(np.linspace(0, len(tone)/RATE, len(tone)), tone)\n",
    "plt.show()"
   ]
  },
  {
   "cell_type": "code",
   "execution_count": null,
   "metadata": {},
   "outputs": [],
   "source": []
  }
 ],
 "metadata": {
  "kernelspec": {
   "display_name": "Python 3",
   "language": "python",
   "name": "python3"
  },
  "language_info": {
   "codemirror_mode": {
    "name": "ipython",
    "version": 3
   },
   "file_extension": ".py",
   "mimetype": "text/x-python",
   "name": "python",
   "nbconvert_exporter": "python",
   "pygments_lexer": "ipython3",
   "version": "3.6.2"
  }
 },
 "nbformat": 4,
 "nbformat_minor": 2
}
