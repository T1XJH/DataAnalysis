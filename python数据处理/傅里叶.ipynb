{
 "cells": [
  {
   "cell_type": "code",
   "execution_count": 1,
   "metadata": {},
   "outputs": [],
   "source": [
    "import numpy as np\n",
    "# fft 傅里叶转换， ifft傅里叶反转\n",
    "from numpy.fft import fft, ifft\n",
    "from PIL import Image"
   ]
  },
  {
   "cell_type": "code",
   "execution_count": 2,
   "metadata": {},
   "outputs": [],
   "source": [
    "pic = Image.open('Photo6.jpg')"
   ]
  },
  {
   "cell_type": "code",
   "execution_count": 4,
   "metadata": {},
   "outputs": [],
   "source": [
    "#pic.show()\n",
    "pic"
   ]
  },
  {
   "cell_type": "code",
   "execution_count": 9,
   "metadata": {},
   "outputs": [
    {
     "data": {
      "text/plain": [
       "array([33, 26, 33, ..., 52, 42, 50], dtype=int8)"
      ]
     },
     "execution_count": 9,
     "metadata": {},
     "output_type": "execute_result"
    }
   ],
   "source": [
    "pic_data = np.fromstring(pic.tobytes(),dtype=np.int8)\n",
    "# 有负数是因为int<128,颜色值为0-255\n",
    "pic_data"
   ]
  },
  {
   "cell_type": "code",
   "execution_count": 10,
   "metadata": {},
   "outputs": [
    {
     "data": {
      "text/plain": [
       "array([  7013405.00000000       +0.j        ,\n",
       "        16332705.61648151-27051314.73495049j,\n",
       "         9842766.87711522 -9248219.89842544j, ...,\n",
       "        -9503841.02126344 +8499848.16489301j,\n",
       "         9842766.87711533 +9248219.89842534j,\n",
       "        16332705.61648182+27051314.73495033j])"
      ]
     },
     "execution_count": 10,
     "metadata": {},
     "output_type": "execute_result"
    }
   ],
   "source": [
    "pic_data_fft = fft(pic_data)\n",
    "# 将真实数据转换成频域\n",
    "pic_data_fft"
   ]
  },
  {
   "cell_type": "code",
   "execution_count": 11,
   "metadata": {},
   "outputs": [
    {
     "data": {
      "text/plain": [
       "array([  7013405.00000000       +0.j        ,\n",
       "        16332705.61648151-27051314.73495049j,\n",
       "         9842766.87711522 -9248219.89842544j, ...,\n",
       "        -9503841.02126344 +8499848.16489301j,\n",
       "         9842766.87711533 +9248219.89842534j,\n",
       "        16332705.61648182+27051314.73495033j])"
      ]
     },
     "execution_count": 11,
     "metadata": {},
     "output_type": "execute_result"
    }
   ],
   "source": [
    "# 将傅里叶的数据去除低频的波，设置为0\n",
    "np.where(np.abs(pic_data_fft)<1e5, 0, pic_data_fft)"
   ]
  },
  {
   "cell_type": "code",
   "execution_count": 12,
   "metadata": {},
   "outputs": [],
   "source": [
    "pic_data_fft[np.where(np.abs(pic_data_fft)<1e5)] = 0"
   ]
  },
  {
   "cell_type": "code",
   "execution_count": 13,
   "metadata": {},
   "outputs": [
    {
     "data": {
      "text/plain": [
       "array([ 34.84987702 -1.96914024e-13j,  26.25666917 -1.30837760e-13j,\n",
       "        36.15377779 -1.42636807e-13j, ...,  25.56808774 +4.70641500e-14j,\n",
       "        18.00501800 -1.14524226e-14j,  25.73229892 -2.09361541e-14j])"
      ]
     },
     "execution_count": 13,
     "metadata": {},
     "output_type": "execute_result"
    }
   ],
   "source": [
    "pic_data_ifft = ifft(pic_data_fft)\n",
    "pic_data_ifft"
   ]
  },
  {
   "cell_type": "code",
   "execution_count": 16,
   "metadata": {},
   "outputs": [
    {
     "data": {
      "text/plain": [
       "array([ 34.84987702,  26.25666917,  36.15377779, ...,  25.56808774,\n",
       "        18.005018  ,  25.73229892])"
      ]
     },
     "execution_count": 16,
     "metadata": {},
     "output_type": "execute_result"
    }
   ],
   "source": [
    "pic_data_real = np.real(pic_data_ifft)\n",
    "pic_data_real"
   ]
  },
  {
   "cell_type": "code",
   "execution_count": 19,
   "metadata": {},
   "outputs": [
    {
     "data": {
      "text/plain": [
       "array([34, 26, 36, ..., 25, 18, 25], dtype=int8)"
      ]
     },
     "execution_count": 19,
     "metadata": {},
     "output_type": "execute_result"
    }
   ],
   "source": [
    "pic_data_result = np.int8(pic_data_real)\n",
    "pic_data_result"
   ]
  },
  {
   "cell_type": "code",
   "execution_count": 21,
   "metadata": {},
   "outputs": [],
   "source": [
    "pic_Image = Image.frombytes(size = pic.size, mode = pic.mode, data=pic_data_result)"
   ]
  },
  {
   "cell_type": "code",
   "execution_count": 22,
   "metadata": {},
   "outputs": [],
   "source": [
    "pic_Image.show()"
   ]
  },
  {
   "cell_type": "code",
   "execution_count": null,
   "metadata": {},
   "outputs": [],
   "source": []
  },
  {
   "cell_type": "code",
   "execution_count": null,
   "metadata": {},
   "outputs": [],
   "source": []
  },
  {
   "cell_type": "code",
   "execution_count": null,
   "metadata": {},
   "outputs": [],
   "source": []
  }
 ],
 "metadata": {
  "kernelspec": {
   "display_name": "Python 3",
   "language": "python",
   "name": "python3"
  },
  "language_info": {
   "codemirror_mode": {
    "name": "ipython",
    "version": 3
   },
   "file_extension": ".py",
   "mimetype": "text/x-python",
   "name": "python",
   "nbconvert_exporter": "python",
   "pygments_lexer": "ipython3",
   "version": "3.6.2"
  }
 },
 "nbformat": 4,
 "nbformat_minor": 2
}
